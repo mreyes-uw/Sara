{
 "cells": [
  {
   "cell_type": "markdown",
   "id": "99a6b521",
   "metadata": {
    "id": "99a6b521"
   },
   "source": [
    "# Lab 4 Report: \n",
    "## Surpass Human Performance in Fashion MNIST Classificaion"
   ]
  },
  {
   "cell_type": "markdown",
   "id": "b113a4a8",
   "metadata": {
    "id": "b113a4a8"
   },
   "source": [
    "### Name:"
   ]
  },
  {
   "cell_type": "code",
   "execution_count": null,
   "id": "835b6358",
   "metadata": {
    "id": "835b6358"
   },
   "outputs": [],
   "source": [
    "%matplotlib inline\n",
    "import matplotlib.pyplot as plt\n",
    "import torch\n",
    "import numpy as np\n",
    "from sklearn.preprocessing import StandardScaler\n",
    "from sklearn.model_selection import train_test_split"
   ]
  },
  {
   "cell_type": "code",
   "execution_count": null,
   "id": "04a73760",
   "metadata": {
    "id": "04a73760"
   },
   "outputs": [],
   "source": [
    "from IPython.display import Image # For displaying images in colab jupyter cell"
   ]
  },
  {
   "cell_type": "code",
   "execution_count": null,
   "id": "931b6374",
   "metadata": {
    "colab": {
     "base_uri": "https://localhost:8080/",
     "height": 34
    },
    "id": "931b6374",
    "outputId": "f2bfa249-40c0-4c25-95c3-8062695da4ec"
   },
   "outputs": [
    {
     "data": {
      "image/png": "lab4_exercise.png",
      "text/plain": [
       "<IPython.core.display.Image object>"
      ]
     },
     "execution_count": 3,
     "metadata": {
      "image/png": {
       "width": 1000
      }
     },
     "output_type": "execute_result"
    }
   ],
   "source": [
    "Image('lab4_exercise.png', width = 1000)"
   ]
  },
  {
   "cell_type": "markdown",
   "id": "9dcc1fbb",
   "metadata": {
    "id": "9dcc1fbb"
   },
   "source": [
    "## Prepare Data"
   ]
  },
  {
   "cell_type": "code",
   "execution_count": null,
   "id": "5dfa7da9",
   "metadata": {
    "colab": {
     "base_uri": "https://localhost:8080/"
    },
    "id": "5dfa7da9",
    "outputId": "28b0cfe9-aefd-4435-a58b-33cd9c792443"
   },
   "outputs": [
    {
     "name": "stdout",
     "output_type": "stream",
     "text": [
      "Training Features Shape:  (10000, 28, 28)\n",
      "Training Targets Shape:  (10000,)\n",
      "Testing Features Shape:  (1000, 28, 28)\n",
      "Testing Targets Shape:  (1000,)\n"
     ]
    }
   ],
   "source": [
    "# Load Fashion-MNIST Dataset in Numpy\n",
    "\n",
    "# 10000 training features/targets where each feature is a greyscale image with shape (28, 28)\n",
    "train_features = np.load('fashion_mnist_train_features.npy') \n",
    "train_targets = np.load('fashion_mnist_train_targets.npy')\n",
    "\n",
    "# 1000 testing features/targets \n",
    "test_features = np.load('fashion_mnist_test_features.npy')\n",
    "test_targets = np.load('fashion_mnist_test_targets.npy')\n",
    "\n",
    "# Let's see the shapes of training/testing datasets\n",
    "print(\"Training Features Shape: \", train_features.shape)\n",
    "print(\"Training Targets Shape: \", train_targets.shape)\n",
    "print(\"Testing Features Shape: \", test_features.shape)\n",
    "print(\"Testing Targets Shape: \", test_targets.shape)"
   ]
  },
  {
   "cell_type": "code",
   "execution_count": null,
   "id": "25c1e6ec",
   "metadata": {
    "colab": {
     "base_uri": "https://localhost:8080/",
     "height": 230
    },
    "id": "25c1e6ec",
    "outputId": "43cc713e-ee09-461d-f8f2-11a36a2dcbe3"
   },
   "outputs": [
    {
     "data": {
      "text/plain": [
       "<matplotlib.image.AxesImage at 0x7fb26ba312d0>"
      ]
     },
     "execution_count": 5,
     "metadata": {},
     "output_type": "execute_result"
    },
    {
     "data": {
      "image/png": "[encoded data removed]",
      "text/plain": [
       "<Figure size 720x720 with 3 Axes>"
      ]
     },
     "metadata": {},
     "output_type": "display_data"
    }
   ],
   "source": [
    "# Visualizing the first three training features (samples)\n",
    "\n",
    "plt.figure(figsize = (10, 10))\n",
    "\n",
    "plt.subplot(1,3,1)\n",
    "plt.imshow(train_features[0], cmap = 'Greys')\n",
    "\n",
    "plt.subplot(1,3,2)\n",
    "plt.imshow(train_features[1], cmap = 'Greys')\n",
    "\n",
    "plt.subplot(1,3,3)\n",
    "plt.imshow(train_features[2], cmap = 'Greys')"
   ]
  },
  {
   "cell_type": "code",
   "execution_count": null,
   "id": "ac9be3f7",
   "metadata": {
    "colab": {
     "base_uri": "https://localhost:8080/"
    },
    "id": "ac9be3f7",
    "outputId": "97b9ff01-becc-497a-9fb3-edecf89f60d1"
   },
   "outputs": [
    {
     "name": "stdout",
     "output_type": "stream",
     "text": [
      "(10000, 784)\n",
      "(1000, 784)\n",
      "(10000, 28, 28)\n",
      "(1000, 28, 28)\n"
     ]
    }
   ],
   "source": [
    "# Perform standard scaling on the training and testing features\n",
    "# After scaling, make sure you reshape the training features back to (10000, 28, 28) and testing features to (1000, 28, 28)\n",
    "# since CNNs take 2D tensors as inputs\n",
    "scaler = StandardScaler()\n",
    "\n",
    "train_features_flat = train_features.reshape(10000, 28*28) #reshape from 3d to 2d by taking square of 28\n",
    "test_features_flat = test_features.reshape(1000, 28*28)\n",
    "print(train_features_flat.shape)\n",
    "print(test_features_flat.shape)\n",
    "\n",
    "train_features = scaler.fit_transform(train_features_flat).reshape(10000, 28, 28)\n",
    "test_features = scaler.fit_transform(test_features_flat).reshape(1000, 28, 28)\n",
    "\n",
    "print(train_features.shape)\n",
    "print(test_features.shape)"
   ]
  },
  {
   "cell_type": "code",
   "execution_count": null,
   "id": "a2025caf",
   "metadata": {
    "id": "a2025caf"
   },
   "outputs": [],
   "source": [
    "# Take the first 1000 (or randomly select 1000) training features and targets as validation set \n",
    "\n",
    "validation_features = train_features[:1000]\n",
    "validation_targets = train_targets[:1000]\n",
    "\n",
    "# Take the remaining 9000 training features and targets as training set \n",
    "\n",
    "train_features = train_features[1000:]\n",
    "train_targets = train_targets[1000:]"
   ]
  },
  {
   "cell_type": "code",
   "execution_count": null,
   "id": "8c8f2369",
   "metadata": {
    "id": "8c8f2369"
   },
   "outputs": [],
   "source": [
    "# Reshape train/validation/test sets to conform to PyTorch's (N, Channels, Height, Width) standard for CNNs\n",
    "\n",
    "train_features = np.reshape(train_features, (9000, 1, 28, 28))\n",
    "validation_features = np.reshape(validation_features, (1000, 1, 28, 28))\n",
    "test_features = np.reshape(test_features, (1000, 1, 28, 28))"
   ]
  },
  {
   "cell_type": "markdown",
   "id": "9b3ac541",
   "metadata": {
    "id": "9b3ac541"
   },
   "source": [
    "## Define Model"
   ]
  },
  {
   "cell_type": "code",
   "execution_count": null,
   "id": "c8355384",
   "metadata": {
    "id": "c8355384"
   },
   "outputs": [],
   "source": [
    "# Define your CNN architecture here\n",
    "\n",
    "class CNNModel(torch.nn.Module):\n",
    "    \n",
    "    def __init__(self):\n",
    "        \n",
    "        super(CNNModel, self).__init__()\n",
    "        \n",
    "        # First convolution layer (1 channel -> 16 channels, preserve original dimension by adding padding = 0)\n",
    "        self.cnn1 = torch.nn.Conv2d(in_channels=1, out_channels=16, \n",
    "                              kernel_size=3, stride=1, padding=3)\n",
    "        \n",
    "        # First max pooling layer with kernel size = 3\n",
    "        self.maxpool1 = torch.nn.MaxPool2d(kernel_size=3)\n",
    "         \n",
    "        # Second convolution layer (16 channel -> 32 channels, preserve dimension by adding padding = 0)\n",
    "        self.cnn2 = torch.nn.Conv2d(in_channels=16, out_channels=32, \n",
    "                              kernel_size=3, stride=1, padding=3)\n",
    "        \n",
    "        # Second max pooling layer with kernel size = 3\n",
    "        self.maxpool2 = torch.nn.MaxPool2d(kernel_size=3)\n",
    "        \n",
    "        # Fully connected layer that takes the flattened output of maxpool2 (32, 5 ,5) -> (800) and output 10 classes\n",
    "        self.fc1 = torch.nn.Linear(32 * 4 * 4, 10) \n",
    "    \n",
    "    def forward(self, x):\n",
    "        \n",
    "        # YOUR CODE HERE\n",
    "        # Note: If you are using CrossEntropyLoss() do NOT apply softmax to the final ouput \n",
    "        # since it's incorporated within the loss function\n",
    "\n",
    "        # input image -> conv1 -> relu -> maxpool1\n",
    "        conv1_out = torch.nn.functional.relu(self.cnn1(x))       \n",
    "        pool1_out = self.maxpool1(conv1_out)\n",
    "        \n",
    "        # maxpool1 output -> conv2 -> relu -> maxpool2\n",
    "        conv2_out = torch.nn.functional.relu(self.cnn2(pool1_out))    \n",
    "        pool2_out = self.maxpool2(conv2_out)\n",
    "\n",
    "        #print(pool2_out.size())\n",
    "        \n",
    "        # flatten the maxpool2 output to be used as input into FCN layer\n",
    "        fcn_input = pool2_out.view(pool2_out.size(0), -1)\n",
    "    \n",
    "        # Use the raw output of the fully connected layer as the final output\n",
    "        output = self.fc1(fcn_input)\n",
    "        \n",
    "        return output"
   ]
  },
  {
   "cell_type": "markdown",
   "id": "b9624830",
   "metadata": {
    "id": "b9624830"
   },
   "source": [
    "## Select Hyperparameters"
   ]
  },
  {
   "cell_type": "code",
   "execution_count": null,
   "id": "1d668a01",
   "metadata": {
    "colab": {
     "base_uri": "https://localhost:8080/"
    },
    "id": "1d668a01",
    "outputId": "dde6140c-ce97-4776-823d-57afbc001d78"
   },
   "outputs": [
    {
     "data": {
      "text/plain": [
       "CNNModel(\n",
       "  (cnn1): Conv2d(1, 16, kernel_size=(3, 3), stride=(1, 1), padding=(3, 3))\n",
       "  (maxpool1): MaxPool2d(kernel_size=3, stride=3, padding=0, dilation=1, ceil_mode=False)\n",
       "  (cnn2): Conv2d(16, 32, kernel_size=(3, 3), stride=(1, 1), padding=(3, 3))\n",
       "  (maxpool2): MaxPool2d(kernel_size=3, stride=3, padding=0, dilation=1, ceil_mode=False)\n",
       "  (fc1): Linear(in_features=512, out_features=10, bias=True)\n",
       ")"
      ]
     },
     "execution_count": 10,
     "metadata": {},
     "output_type": "execute_result"
    }
   ],
   "source": [
    "# Fix the random seed so that model performance is reproducible\n",
    "torch.manual_seed(55)\n",
    "\n",
    "# Initialize your CNN model\n",
    "\n",
    "model = CNNModel()\n",
    "\n",
    "# Define learning rate, epoch and batchsize for mini-batch gradient\n",
    "\n",
    "learning_rate = 0.003\n",
    "epochs = 30\n",
    "batchsize = 420\n",
    "\n",
    "# Define loss function and optimizer\n",
    "\n",
    "loss_func = torch.nn.CrossEntropyLoss()\n",
    "optimizer = torch.optim.Adam(model.parameters(), lr = learning_rate)\n",
    "\n",
    "model"
   ]
  },
  {
   "cell_type": "markdown",
   "id": "9c3045df",
   "metadata": {
    "id": "9c3045df"
   },
   "source": [
    "## Identify Tracked Values"
   ]
  },
  {
   "cell_type": "code",
   "execution_count": null,
   "id": "638259ed",
   "metadata": {
    "id": "638259ed"
   },
   "outputs": [],
   "source": [
    "# Placeholders for training loss and validation accuracy during training\n",
    "# Training loss should be tracked for each iteration (1 iteration -> single forward pass to the network)\n",
    "# Validation accuracy should be evaluated every 'Epoch' (1 epoch -> full training dataset)\n",
    "# If using batch gradient, 1 iteration = 1 epoch\n",
    "\n",
    "train_loss_list = []\n",
    "validation_accuracy_list = np.zeros((epochs,))"
   ]
  },
  {
   "cell_type": "markdown",
   "id": "a1fbc523",
   "metadata": {
    "id": "a1fbc523"
   },
   "source": [
    "## Train Model"
   ]
  },
  {
   "cell_type": "code",
   "execution_count": null,
   "id": "02a5f590",
   "metadata": {
    "colab": {
     "background_save": true,
     "base_uri": "https://localhost:8080/"
    },
    "id": "02a5f590",
    "outputId": "59aaad9d-0dda-4b5a-f78b-0b0ed4aefda1"
   },
   "outputs": [
    {
     "name": "stdout",
     "output_type": "stream",
     "text": [
      "Epoch: 0 Validation Accuracy: 24.5%\n",
      "Epoch: 0 Validation Accuracy: 43.2%\n",
      "Epoch: 0 Validation Accuracy: 60.1%\n",
      "Epoch: 0 Validation Accuracy: 59.7%\n",
      "Epoch: 0 Validation Accuracy: 56.4%\n",
      "Epoch: 0 Validation Accuracy: 62.9%\n",
      "Epoch: 0 Validation Accuracy: 60.2%\n",
      "Epoch: 0 Validation Accuracy: 67.5%\n",
      "Epoch: 0 Validation Accuracy: 63.4%\n",
      "Epoch: 0 Validation Accuracy: 66.9%\n",
      "Epoch: 0 Validation Accuracy: 67.8%\n",
      "Epoch: 0 Validation Accuracy: 69.4%\n",
      "Epoch: 0 Validation Accuracy: 69.7%\n",
      "Epoch: 0 Validation Accuracy: 73.0%\n",
      "Epoch: 0 Validation Accuracy: 72.3%\n",
      "Epoch: 0 Validation Accuracy: 72.2%\n",
      "Epoch: 0 Validation Accuracy: 75.3%\n",
      "Epoch: 0 Validation Accuracy: 75.2%\n",
      "Epoch: 1 Validation Accuracy: 74.4%\n",
      "Epoch: 1 Validation Accuracy: 76.1%\n",
      "Epoch: 1 Validation Accuracy: 76.4%\n",
      "Epoch: 1 Validation Accuracy: 75.5%\n",
      "Epoch: 1 Validation Accuracy: 72.7%\n",
      "Epoch: 1 Validation Accuracy: 75.9%\n",
      "Epoch: 1 Validation Accuracy: 79.8%\n",
      "Epoch: 1 Validation Accuracy: 76.9%\n",
      "Epoch: 1 Validation Accuracy: 76.2%\n",
      "Epoch: 1 Validation Accuracy: 76.6%\n",
      "Epoch: 1 Validation Accuracy: 78.3%\n",
      "Epoch: 1 Validation Accuracy: 79.5%\n",
      "Epoch: 1 Validation Accuracy: 79.0%\n",
      "Epoch: 1 Validation Accuracy: 79.7%\n",
      "Epoch: 1 Validation Accuracy: 79.5%\n",
      "Epoch: 1 Validation Accuracy: 79.5%\n",
      "Epoch: 1 Validation Accuracy: 80.2%\n",
      "Epoch: 1 Validation Accuracy: 79.2%\n",
      "Epoch: 2 Validation Accuracy: 79.0%\n",
      "Epoch: 2 Validation Accuracy: 81.0%\n",
      "Epoch: 2 Validation Accuracy: 81.8%\n",
      "Epoch: 2 Validation Accuracy: 83.1%\n",
      "Epoch: 2 Validation Accuracy: 81.6%\n",
      "Epoch: 2 Validation Accuracy: 81.4%\n",
      "Epoch: 2 Validation Accuracy: 82.0%\n",
      "Epoch: 2 Validation Accuracy: 81.9%\n",
      "Epoch: 2 Validation Accuracy: 81.9%\n",
      "Epoch: 2 Validation Accuracy: 82.5%\n",
      "Epoch: 2 Validation Accuracy: 83.6%\n",
      "Epoch: 2 Validation Accuracy: 84.3%\n",
      "Epoch: 2 Validation Accuracy: 82.6%\n",
      "Epoch: 2 Validation Accuracy: 83.0%\n",
      "Epoch: 2 Validation Accuracy: 83.5%\n",
      "Epoch: 2 Validation Accuracy: 82.7%\n",
      "Epoch: 2 Validation Accuracy: 82.9%\n",
      "Epoch: 2 Validation Accuracy: 84.7%\n",
      "Epoch: 3 Validation Accuracy: 83.9%\n",
      "Epoch: 3 Validation Accuracy: 83.3%\n",
      "Epoch: 3 Validation Accuracy: 85.2%\n",
      "Epoch: 3 Validation Accuracy: 85.8%\n",
      "Epoch: 3 Validation Accuracy: 84.8%\n",
      "Epoch: 3 Validation Accuracy: 83.0%\n",
      "Epoch: 3 Validation Accuracy: 84.6%\n",
      "Epoch: 3 Validation Accuracy: 84.5%\n",
      "Epoch: 3 Validation Accuracy: 85.5%\n",
      "Epoch: 3 Validation Accuracy: 85.7%\n",
      "Epoch: 3 Validation Accuracy: 85.6%\n",
      "Epoch: 3 Validation Accuracy: 86.5%\n",
      "Epoch: 3 Validation Accuracy: 85.6%\n",
      "Epoch: 3 Validation Accuracy: 85.6%\n",
      "Epoch: 3 Validation Accuracy: 85.5%\n",
      "Epoch: 3 Validation Accuracy: 84.5%\n",
      "Epoch: 3 Validation Accuracy: 84.3%\n",
      "Epoch: 3 Validation Accuracy: 85.7%\n",
      "Epoch: 4 Validation Accuracy: 84.7%\n",
      "Epoch: 4 Validation Accuracy: 85.1%\n",
      "Epoch: 4 Validation Accuracy: 85.8%\n",
      "Epoch: 4 Validation Accuracy: 87.3%\n",
      "Epoch: 4 Validation Accuracy: 86.1%\n",
      "Epoch: 4 Validation Accuracy: 85.1%\n",
      "Epoch: 4 Validation Accuracy: 86.1%\n",
      "Epoch: 4 Validation Accuracy: 86.2%\n",
      "Epoch: 4 Validation Accuracy: 85.5%\n",
      "Epoch: 4 Validation Accuracy: 86.2%\n",
      "Epoch: 4 Validation Accuracy: 86.5%\n",
      "Epoch: 4 Validation Accuracy: 86.1%\n",
      "Epoch: 4 Validation Accuracy: 86.6%\n",
      "Epoch: 4 Validation Accuracy: 86.4%\n",
      "Epoch: 4 Validation Accuracy: 86.6%\n",
      "Epoch: 4 Validation Accuracy: 85.8%\n",
      "Epoch: 4 Validation Accuracy: 86.0%\n",
      "Epoch: 4 Validation Accuracy: 86.6%\n",
      "Epoch: 5 Validation Accuracy: 85.6%\n",
      "Epoch: 5 Validation Accuracy: 86.1%\n",
      "Epoch: 5 Validation Accuracy: 86.5%\n",
      "Epoch: 5 Validation Accuracy: 87.2%\n",
      "Epoch: 5 Validation Accuracy: 87.3%\n",
      "Epoch: 5 Validation Accuracy: 86.9%\n",
      "Epoch: 5 Validation Accuracy: 86.6%\n",
      "Epoch: 5 Validation Accuracy: 85.9%\n",
      "Epoch: 5 Validation Accuracy: 86.7%\n",
      "Epoch: 5 Validation Accuracy: 86.6%\n",
      "Epoch: 5 Validation Accuracy: 87.2%\n",
      "Epoch: 5 Validation Accuracy: 86.6%\n",
      "Epoch: 5 Validation Accuracy: 86.6%\n",
      "Epoch: 5 Validation Accuracy: 87.6%\n",
      "Epoch: 5 Validation Accuracy: 87.6%\n",
      "Epoch: 5 Validation Accuracy: 86.3%\n",
      "Epoch: 5 Validation Accuracy: 86.4%\n",
      "Epoch: 5 Validation Accuracy: 86.9%\n",
      "Epoch: 6 Validation Accuracy: 87.4%\n",
      "Epoch: 6 Validation Accuracy: 86.8%\n",
      "Epoch: 6 Validation Accuracy: 87.4%\n",
      "Epoch: 6 Validation Accuracy: 87.5%\n",
      "Epoch: 6 Validation Accuracy: 87.5%\n",
      "Epoch: 6 Validation Accuracy: 87.4%\n",
      "Epoch: 6 Validation Accuracy: 87.4%\n",
      "Epoch: 6 Validation Accuracy: 86.2%\n",
      "Epoch: 6 Validation Accuracy: 87.3%\n",
      "Epoch: 6 Validation Accuracy: 87.6%\n",
      "Epoch: 6 Validation Accuracy: 87.0%\n",
      "Epoch: 6 Validation Accuracy: 88.0%\n",
      "Epoch: 6 Validation Accuracy: 87.6%\n",
      "Epoch: 6 Validation Accuracy: 87.4%\n",
      "Epoch: 6 Validation Accuracy: 87.9%\n",
      "Epoch: 6 Validation Accuracy: 87.2%\n",
      "Epoch: 6 Validation Accuracy: 86.9%\n",
      "Epoch: 6 Validation Accuracy: 86.6%\n",
      "Epoch: 7 Validation Accuracy: 87.1%\n",
      "Epoch: 7 Validation Accuracy: 87.6%\n",
      "Epoch: 7 Validation Accuracy: 88.7%\n",
      "Epoch: 7 Validation Accuracy: 88.3%\n",
      "Epoch: 7 Validation Accuracy: 88.1%\n",
      "Epoch: 7 Validation Accuracy: 88.8%\n",
      "Epoch: 7 Validation Accuracy: 88.1%\n",
      "Epoch: 7 Validation Accuracy: 87.0%\n",
      "Epoch: 7 Validation Accuracy: 88.0%\n",
      "Epoch: 7 Validation Accuracy: 87.2%\n",
      "Epoch: 7 Validation Accuracy: 86.8%\n",
      "Epoch: 7 Validation Accuracy: 87.4%\n",
      "Epoch: 7 Validation Accuracy: 88.8%\n",
      "Epoch: 7 Validation Accuracy: 88.3%\n",
      "Epoch: 7 Validation Accuracy: 88.0%\n",
      "Epoch: 7 Validation Accuracy: 87.1%\n",
      "Epoch: 7 Validation Accuracy: 87.9%\n",
      "Epoch: 7 Validation Accuracy: 87.5%\n",
      "Epoch: 8 Validation Accuracy: 86.6%\n",
      "Epoch: 8 Validation Accuracy: 87.3%\n",
      "Epoch: 8 Validation Accuracy: 87.8%\n",
      "Epoch: 8 Validation Accuracy: 88.0%\n",
      "Epoch: 8 Validation Accuracy: 88.9%\n",
      "Epoch: 8 Validation Accuracy: 88.6%\n",
      "Epoch: 8 Validation Accuracy: 88.1%\n",
      "Epoch: 8 Validation Accuracy: 87.6%\n",
      "Epoch: 8 Validation Accuracy: 88.1%\n",
      "Epoch: 8 Validation Accuracy: 87.9%\n",
      "Epoch: 8 Validation Accuracy: 87.2%\n",
      "Epoch: 8 Validation Accuracy: 87.7%\n",
      "Epoch: 8 Validation Accuracy: 89.4%\n",
      "Epoch: 8 Validation Accuracy: 88.7%\n",
      "Epoch: 8 Validation Accuracy: 88.3%\n",
      "Epoch: 8 Validation Accuracy: 87.9%\n",
      "Epoch: 8 Validation Accuracy: 88.4%\n",
      "Epoch: 8 Validation Accuracy: 88.1%\n",
      "Epoch: 9 Validation Accuracy: 87.1%\n",
      "Epoch: 9 Validation Accuracy: 87.2%\n",
      "Epoch: 9 Validation Accuracy: 88.3%\n",
      "Epoch: 9 Validation Accuracy: 88.3%\n",
      "Epoch: 9 Validation Accuracy: 88.6%\n",
      "Epoch: 9 Validation Accuracy: 88.1%\n",
      "Epoch: 9 Validation Accuracy: 87.7%\n",
      "Epoch: 9 Validation Accuracy: 87.4%\n",
      "Epoch: 9 Validation Accuracy: 87.7%\n",
      "Epoch: 9 Validation Accuracy: 88.6%\n",
      "Epoch: 9 Validation Accuracy: 88.3%\n",
      "Epoch: 9 Validation Accuracy: 87.6%\n",
      "Epoch: 9 Validation Accuracy: 88.2%\n",
      "Epoch: 9 Validation Accuracy: 88.9%\n",
      "Epoch: 9 Validation Accuracy: 89.3%\n",
      "Epoch: 9 Validation Accuracy: 88.9%\n",
      "Epoch: 9 Validation Accuracy: 88.7%\n",
      "Epoch: 9 Validation Accuracy: 89.2%\n",
      "Epoch: 10 Validation Accuracy: 88.2%\n",
      "Epoch: 10 Validation Accuracy: 87.7%\n",
      "Epoch: 10 Validation Accuracy: 88.2%\n",
      "Epoch: 10 Validation Accuracy: 88.1%\n",
      "Epoch: 10 Validation Accuracy: 88.8%\n",
      "Epoch: 10 Validation Accuracy: 89.3%\n",
      "Epoch: 10 Validation Accuracy: 88.7%\n",
      "Epoch: 10 Validation Accuracy: 88.1%\n",
      "Epoch: 10 Validation Accuracy: 88.3%\n",
      "Epoch: 10 Validation Accuracy: 88.0%\n",
      "Epoch: 10 Validation Accuracy: 88.1%\n",
      "Epoch: 10 Validation Accuracy: 88.0%\n",
      "Epoch: 10 Validation Accuracy: 88.4%\n",
      "Epoch: 10 Validation Accuracy: 89.2%\n",
      "Epoch: 10 Validation Accuracy: 89.2%\n",
      "Epoch: 10 Validation Accuracy: 88.4%\n",
      "Epoch: 10 Validation Accuracy: 88.5%\n",
      "Epoch: 10 Validation Accuracy: 88.7%\n",
      "Epoch: 11 Validation Accuracy: 88.5%\n",
      "Epoch: 11 Validation Accuracy: 88.2%\n",
      "Epoch: 11 Validation Accuracy: 88.8%\n",
      "Epoch: 11 Validation Accuracy: 88.8%\n",
      "Epoch: 11 Validation Accuracy: 88.8%\n",
      "Epoch: 11 Validation Accuracy: 89.3%\n",
      "Epoch: 11 Validation Accuracy: 88.8%\n",
      "Epoch: 11 Validation Accuracy: 87.9%\n",
      "Epoch: 11 Validation Accuracy: 88.4%\n",
      "Epoch: 11 Validation Accuracy: 89.1%\n",
      "Epoch: 11 Validation Accuracy: 89.3%\n",
      "Epoch: 11 Validation Accuracy: 88.8%\n",
      "Epoch: 11 Validation Accuracy: 88.9%\n",
      "Epoch: 11 Validation Accuracy: 89.0%\n",
      "Epoch: 11 Validation Accuracy: 89.2%\n",
      "Epoch: 11 Validation Accuracy: 88.9%\n",
      "Epoch: 11 Validation Accuracy: 89.0%\n",
      "Epoch: 11 Validation Accuracy: 88.8%\n",
      "Epoch: 12 Validation Accuracy: 88.3%\n",
      "Epoch: 12 Validation Accuracy: 88.3%\n",
      "Epoch: 12 Validation Accuracy: 88.8%\n",
      "Epoch: 12 Validation Accuracy: 89.3%\n",
      "Epoch: 12 Validation Accuracy: 89.4%\n",
      "Epoch: 12 Validation Accuracy: 89.1%\n",
      "Epoch: 12 Validation Accuracy: 89.0%\n",
      "Epoch: 12 Validation Accuracy: 88.1%\n",
      "Epoch: 12 Validation Accuracy: 88.6%\n",
      "Epoch: 12 Validation Accuracy: 89.0%\n",
      "Epoch: 12 Validation Accuracy: 89.5%\n",
      "Epoch: 12 Validation Accuracy: 89.8%\n",
      "Epoch: 12 Validation Accuracy: 88.8%\n",
      "Epoch: 12 Validation Accuracy: 88.4%\n",
      "Epoch: 12 Validation Accuracy: 88.6%\n",
      "Epoch: 12 Validation Accuracy: 88.6%\n",
      "Epoch: 12 Validation Accuracy: 88.9%\n",
      "Epoch: 12 Validation Accuracy: 89.5%\n",
      "Epoch: 13 Validation Accuracy: 88.4%\n",
      "Epoch: 13 Validation Accuracy: 88.4%\n",
      "Epoch: 13 Validation Accuracy: 90.1%\n",
      "Epoch: 13 Validation Accuracy: 88.6%\n",
      "Epoch: 13 Validation Accuracy: 89.0%\n",
      "Epoch: 13 Validation Accuracy: 89.1%\n",
      "Epoch: 13 Validation Accuracy: 88.5%\n",
      "Epoch: 13 Validation Accuracy: 88.7%\n",
      "Epoch: 13 Validation Accuracy: 88.4%\n",
      "Epoch: 13 Validation Accuracy: 88.6%\n",
      "Epoch: 13 Validation Accuracy: 89.0%\n",
      "Epoch: 13 Validation Accuracy: 89.2%\n",
      "Epoch: 13 Validation Accuracy: 89.4%\n",
      "Epoch: 13 Validation Accuracy: 89.4%\n",
      "Epoch: 13 Validation Accuracy: 89.4%\n",
      "Epoch: 13 Validation Accuracy: 89.8%\n",
      "Epoch: 13 Validation Accuracy: 89.3%\n",
      "Epoch: 13 Validation Accuracy: 89.1%\n",
      "Epoch: 14 Validation Accuracy: 88.4%\n",
      "Epoch: 14 Validation Accuracy: 88.8%\n",
      "Epoch: 14 Validation Accuracy: 89.5%\n",
      "Epoch: 14 Validation Accuracy: 89.8%\n",
      "Epoch: 14 Validation Accuracy: 89.7%\n",
      "Epoch: 14 Validation Accuracy: 89.6%\n",
      "Epoch: 14 Validation Accuracy: 89.0%\n",
      "Epoch: 14 Validation Accuracy: 88.4%\n",
      "Epoch: 14 Validation Accuracy: 88.4%\n",
      "Epoch: 14 Validation Accuracy: 89.0%\n",
      "Epoch: 14 Validation Accuracy: 89.7%\n",
      "Epoch: 14 Validation Accuracy: 89.3%\n",
      "Epoch: 14 Validation Accuracy: 89.0%\n",
      "Epoch: 14 Validation Accuracy: 88.9%\n",
      "Epoch: 14 Validation Accuracy: 89.4%\n",
      "Epoch: 14 Validation Accuracy: 88.6%\n",
      "Epoch: 14 Validation Accuracy: 88.4%\n",
      "Epoch: 14 Validation Accuracy: 89.3%\n",
      "Epoch: 15 Validation Accuracy: 87.2%\n",
      "Epoch: 15 Validation Accuracy: 88.1%\n",
      "Epoch: 15 Validation Accuracy: 89.0%\n",
      "Epoch: 15 Validation Accuracy: 89.4%\n",
      "Epoch: 15 Validation Accuracy: 90.2%\n",
      "Epoch: 15 Validation Accuracy: 89.6%\n",
      "Epoch: 15 Validation Accuracy: 89.0%\n",
      "Epoch: 15 Validation Accuracy: 89.2%\n",
      "Epoch: 15 Validation Accuracy: 88.9%\n",
      "Epoch: 15 Validation Accuracy: 88.5%\n",
      "Epoch: 15 Validation Accuracy: 89.3%\n",
      "Epoch: 15 Validation Accuracy: 89.1%\n",
      "Epoch: 15 Validation Accuracy: 89.1%\n",
      "Epoch: 15 Validation Accuracy: 89.0%\n",
      "Epoch: 15 Validation Accuracy: 89.3%\n",
      "Epoch: 15 Validation Accuracy: 89.2%\n",
      "Epoch: 15 Validation Accuracy: 89.0%\n",
      "Epoch: 15 Validation Accuracy: 89.3%\n",
      "Epoch: 16 Validation Accuracy: 87.5%\n",
      "Epoch: 16 Validation Accuracy: 88.2%\n",
      "Epoch: 16 Validation Accuracy: 89.8%\n",
      "Epoch: 16 Validation Accuracy: 89.6%\n",
      "Epoch: 16 Validation Accuracy: 90.4%\n",
      "Epoch: 16 Validation Accuracy: 89.5%\n",
      "Epoch: 16 Validation Accuracy: 88.8%\n",
      "Epoch: 16 Validation Accuracy: 89.6%\n",
      "Epoch: 16 Validation Accuracy: 89.6%\n",
      "Epoch: 16 Validation Accuracy: 89.2%\n",
      "Epoch: 16 Validation Accuracy: 89.3%\n",
      "Epoch: 16 Validation Accuracy: 89.3%\n",
      "Epoch: 16 Validation Accuracy: 89.3%\n",
      "Epoch: 16 Validation Accuracy: 89.3%\n",
      "Epoch: 16 Validation Accuracy: 89.7%\n",
      "Epoch: 16 Validation Accuracy: 89.7%\n",
      "Epoch: 16 Validation Accuracy: 88.9%\n",
      "Epoch: 16 Validation Accuracy: 89.4%\n",
      "Epoch: 17 Validation Accuracy: 87.8%\n",
      "Epoch: 17 Validation Accuracy: 88.7%\n",
      "Epoch: 17 Validation Accuracy: 89.3%\n",
      "Epoch: 17 Validation Accuracy: 89.5%\n",
      "Epoch: 17 Validation Accuracy: 90.0%\n",
      "Epoch: 17 Validation Accuracy: 89.2%\n",
      "Epoch: 17 Validation Accuracy: 88.6%\n",
      "Epoch: 17 Validation Accuracy: 89.3%\n",
      "Epoch: 17 Validation Accuracy: 89.2%\n",
      "Epoch: 17 Validation Accuracy: 89.3%\n",
      "Epoch: 17 Validation Accuracy: 89.8%\n",
      "Epoch: 17 Validation Accuracy: 89.0%\n",
      "Epoch: 17 Validation Accuracy: 89.1%\n",
      "Epoch: 17 Validation Accuracy: 89.6%\n",
      "Epoch: 17 Validation Accuracy: 88.7%\n",
      "Epoch: 17 Validation Accuracy: 89.9%\n",
      "Epoch: 17 Validation Accuracy: 89.4%\n",
      "Epoch: 17 Validation Accuracy: 89.3%\n",
      "Epoch: 18 Validation Accuracy: 88.6%\n",
      "Epoch: 18 Validation Accuracy: 88.6%\n",
      "Epoch: 18 Validation Accuracy: 89.5%\n",
      "Epoch: 18 Validation Accuracy: 89.2%\n",
      "Epoch: 18 Validation Accuracy: 89.7%\n",
      "Epoch: 18 Validation Accuracy: 89.6%\n",
      "Epoch: 18 Validation Accuracy: 88.3%\n",
      "Epoch: 18 Validation Accuracy: 88.8%\n",
      "Epoch: 18 Validation Accuracy: 89.0%\n",
      "Epoch: 18 Validation Accuracy: 89.1%\n",
      "Epoch: 18 Validation Accuracy: 89.0%\n",
      "Epoch: 18 Validation Accuracy: 89.7%\n",
      "Epoch: 18 Validation Accuracy: 89.3%\n",
      "Epoch: 18 Validation Accuracy: 89.1%\n",
      "Epoch: 18 Validation Accuracy: 89.2%\n",
      "Epoch: 18 Validation Accuracy: 90.1%\n",
      "Epoch: 18 Validation Accuracy: 89.5%\n",
      "Epoch: 18 Validation Accuracy: 89.3%\n",
      "Epoch: 19 Validation Accuracy: 89.0%\n",
      "Epoch: 19 Validation Accuracy: 88.6%\n",
      "Epoch: 19 Validation Accuracy: 89.7%\n",
      "Epoch: 19 Validation Accuracy: 89.9%\n",
      "Epoch: 19 Validation Accuracy: 89.0%\n",
      "Epoch: 19 Validation Accuracy: 89.9%\n",
      "Epoch: 19 Validation Accuracy: 87.9%\n",
      "Epoch: 19 Validation Accuracy: 88.0%\n",
      "Epoch: 19 Validation Accuracy: 89.0%\n",
      "Epoch: 19 Validation Accuracy: 88.5%\n",
      "Epoch: 19 Validation Accuracy: 89.2%\n",
      "Epoch: 19 Validation Accuracy: 89.1%\n",
      "Epoch: 19 Validation Accuracy: 89.0%\n",
      "Epoch: 19 Validation Accuracy: 88.8%\n",
      "Epoch: 19 Validation Accuracy: 89.4%\n",
      "Epoch: 19 Validation Accuracy: 89.7%\n",
      "Epoch: 19 Validation Accuracy: 89.3%\n",
      "Epoch: 19 Validation Accuracy: 88.8%\n",
      "Epoch: 20 Validation Accuracy: 88.7%\n",
      "Epoch: 20 Validation Accuracy: 88.8%\n",
      "Epoch: 20 Validation Accuracy: 89.8%\n",
      "Epoch: 20 Validation Accuracy: 89.5%\n",
      "Epoch: 20 Validation Accuracy: 88.7%\n",
      "Epoch: 20 Validation Accuracy: 89.8%\n",
      "Epoch: 20 Validation Accuracy: 88.0%\n",
      "Epoch: 20 Validation Accuracy: 87.3%\n",
      "Epoch: 20 Validation Accuracy: 89.3%\n",
      "Epoch: 20 Validation Accuracy: 89.0%\n",
      "Epoch: 20 Validation Accuracy: 89.1%\n",
      "Epoch: 20 Validation Accuracy: 89.0%\n",
      "Epoch: 20 Validation Accuracy: 88.8%\n",
      "Epoch: 20 Validation Accuracy: 88.4%\n",
      "Epoch: 20 Validation Accuracy: 89.2%\n",
      "Epoch: 20 Validation Accuracy: 89.7%\n",
      "Epoch: 20 Validation Accuracy: 89.5%\n",
      "Epoch: 20 Validation Accuracy: 88.6%\n",
      "Epoch: 21 Validation Accuracy: 88.4%\n",
      "Epoch: 21 Validation Accuracy: 88.5%\n",
      "Epoch: 21 Validation Accuracy: 89.3%\n",
      "Epoch: 21 Validation Accuracy: 89.3%\n",
      "Epoch: 21 Validation Accuracy: 88.3%\n",
      "Epoch: 21 Validation Accuracy: 89.5%\n",
      "Epoch: 21 Validation Accuracy: 88.6%\n",
      "Epoch: 21 Validation Accuracy: 87.0%\n",
      "Epoch: 21 Validation Accuracy: 88.9%\n",
      "Epoch: 21 Validation Accuracy: 88.7%\n",
      "Epoch: 21 Validation Accuracy: 89.0%\n",
      "Epoch: 21 Validation Accuracy: 88.7%\n",
      "Epoch: 21 Validation Accuracy: 88.1%\n",
      "Epoch: 21 Validation Accuracy: 88.7%\n",
      "Epoch: 21 Validation Accuracy: 88.1%\n",
      "Epoch: 21 Validation Accuracy: 89.0%\n",
      "Epoch: 21 Validation Accuracy: 89.3%\n",
      "Epoch: 21 Validation Accuracy: 88.6%\n",
      "Epoch: 22 Validation Accuracy: 88.1%\n",
      "Epoch: 22 Validation Accuracy: 88.0%\n",
      "Epoch: 22 Validation Accuracy: 89.2%\n",
      "Epoch: 22 Validation Accuracy: 89.6%\n",
      "Epoch: 22 Validation Accuracy: 89.1%\n",
      "Epoch: 22 Validation Accuracy: 88.8%\n",
      "Epoch: 22 Validation Accuracy: 89.2%\n",
      "Epoch: 22 Validation Accuracy: 87.9%\n",
      "Epoch: 22 Validation Accuracy: 87.4%\n",
      "Epoch: 22 Validation Accuracy: 88.4%\n",
      "Epoch: 22 Validation Accuracy: 89.2%\n",
      "Epoch: 22 Validation Accuracy: 87.9%\n",
      "Epoch: 22 Validation Accuracy: 88.2%\n",
      "Epoch: 22 Validation Accuracy: 88.2%\n",
      "Epoch: 22 Validation Accuracy: 88.2%\n",
      "Epoch: 22 Validation Accuracy: 87.8%\n",
      "Epoch: 22 Validation Accuracy: 88.8%\n",
      "Epoch: 22 Validation Accuracy: 88.0%\n",
      "Epoch: 23 Validation Accuracy: 87.7%\n",
      "Epoch: 23 Validation Accuracy: 88.7%\n",
      "Epoch: 23 Validation Accuracy: 88.2%\n",
      "Epoch: 23 Validation Accuracy: 89.1%\n",
      "Epoch: 23 Validation Accuracy: 89.7%\n",
      "Epoch: 23 Validation Accuracy: 90.0%\n",
      "Epoch: 23 Validation Accuracy: 89.9%\n",
      "Epoch: 23 Validation Accuracy: 89.8%\n",
      "Epoch: 23 Validation Accuracy: 89.2%\n",
      "Epoch: 23 Validation Accuracy: 88.2%\n",
      "Epoch: 23 Validation Accuracy: 88.2%\n",
      "Epoch: 23 Validation Accuracy: 89.3%\n",
      "Epoch: 23 Validation Accuracy: 88.4%\n",
      "Epoch: 23 Validation Accuracy: 87.6%\n",
      "Epoch: 23 Validation Accuracy: 87.1%\n",
      "Epoch: 23 Validation Accuracy: 90.0%\n",
      "Epoch: 23 Validation Accuracy: 88.1%\n",
      "Epoch: 23 Validation Accuracy: 89.1%\n",
      "Epoch: 24 Validation Accuracy: 88.7%\n",
      "Epoch: 24 Validation Accuracy: 87.3%\n",
      "Epoch: 24 Validation Accuracy: 88.6%\n",
      "Epoch: 24 Validation Accuracy: 88.7%\n",
      "Epoch: 24 Validation Accuracy: 87.4%\n",
      "Epoch: 24 Validation Accuracy: 89.0%\n",
      "Epoch: 24 Validation Accuracy: 89.9%\n",
      "Epoch: 24 Validation Accuracy: 89.6%\n",
      "Epoch: 24 Validation Accuracy: 88.9%\n",
      "Epoch: 24 Validation Accuracy: 88.2%\n",
      "Epoch: 24 Validation Accuracy: 89.2%\n",
      "Epoch: 24 Validation Accuracy: 88.1%\n",
      "Epoch: 24 Validation Accuracy: 88.9%\n",
      "Epoch: 24 Validation Accuracy: 87.8%\n",
      "Epoch: 24 Validation Accuracy: 87.9%\n",
      "Epoch: 24 Validation Accuracy: 88.2%\n",
      "Epoch: 24 Validation Accuracy: 88.2%\n",
      "Epoch: 24 Validation Accuracy: 89.2%\n",
      "Epoch: 25 Validation Accuracy: 88.5%\n",
      "Epoch: 25 Validation Accuracy: 87.1%\n",
      "Epoch: 25 Validation Accuracy: 87.7%\n",
      "Epoch: 25 Validation Accuracy: 89.3%\n",
      "Epoch: 25 Validation Accuracy: 88.8%\n",
      "Epoch: 25 Validation Accuracy: 88.7%\n",
      "Epoch: 25 Validation Accuracy: 89.0%\n",
      "Epoch: 25 Validation Accuracy: 89.5%\n",
      "Epoch: 25 Validation Accuracy: 89.8%\n",
      "Epoch: 25 Validation Accuracy: 89.1%\n",
      "Epoch: 25 Validation Accuracy: 89.0%\n",
      "Epoch: 25 Validation Accuracy: 88.0%\n",
      "Epoch: 25 Validation Accuracy: 88.2%\n",
      "Epoch: 25 Validation Accuracy: 87.6%\n",
      "Epoch: 25 Validation Accuracy: 88.3%\n",
      "Epoch: 25 Validation Accuracy: 88.5%\n",
      "Epoch: 25 Validation Accuracy: 88.6%\n",
      "Epoch: 25 Validation Accuracy: 88.5%\n",
      "Epoch: 26 Validation Accuracy: 89.0%\n",
      "Epoch: 26 Validation Accuracy: 88.9%\n",
      "Epoch: 26 Validation Accuracy: 88.1%\n",
      "Epoch: 26 Validation Accuracy: 87.3%\n",
      "Epoch: 26 Validation Accuracy: 88.6%\n",
      "Epoch: 26 Validation Accuracy: 87.8%\n",
      "Epoch: 26 Validation Accuracy: 87.4%\n",
      "Epoch: 26 Validation Accuracy: 88.3%\n",
      "Epoch: 26 Validation Accuracy: 88.7%\n",
      "Epoch: 26 Validation Accuracy: 89.2%\n",
      "Epoch: 26 Validation Accuracy: 88.4%\n",
      "Epoch: 26 Validation Accuracy: 86.5%\n",
      "Epoch: 26 Validation Accuracy: 87.1%\n",
      "Epoch: 26 Validation Accuracy: 88.1%\n",
      "Epoch: 26 Validation Accuracy: 87.5%\n",
      "Epoch: 26 Validation Accuracy: 87.9%\n",
      "Epoch: 26 Validation Accuracy: 88.3%\n",
      "Epoch: 26 Validation Accuracy: 88.6%\n",
      "Epoch: 27 Validation Accuracy: 88.9%\n",
      "Epoch: 27 Validation Accuracy: 89.8%\n",
      "Epoch: 27 Validation Accuracy: 89.4%\n",
      "Epoch: 27 Validation Accuracy: 88.4%\n",
      "Epoch: 27 Validation Accuracy: 88.3%\n",
      "Epoch: 27 Validation Accuracy: 89.5%\n",
      "Epoch: 27 Validation Accuracy: 88.6%\n",
      "Epoch: 27 Validation Accuracy: 88.1%\n",
      "Epoch: 27 Validation Accuracy: 88.3%\n",
      "Epoch: 27 Validation Accuracy: 89.2%\n",
      "Epoch: 27 Validation Accuracy: 89.0%\n",
      "Epoch: 27 Validation Accuracy: 89.4%\n",
      "Epoch: 27 Validation Accuracy: 87.5%\n",
      "Epoch: 27 Validation Accuracy: 86.9%\n",
      "Epoch: 27 Validation Accuracy: 86.3%\n",
      "Epoch: 27 Validation Accuracy: 88.4%\n",
      "Epoch: 27 Validation Accuracy: 89.5%\n",
      "Epoch: 27 Validation Accuracy: 89.6%\n",
      "Epoch: 28 Validation Accuracy: 89.5%\n",
      "Epoch: 28 Validation Accuracy: 89.3%\n",
      "Epoch: 28 Validation Accuracy: 89.5%\n",
      "Epoch: 28 Validation Accuracy: 89.5%\n",
      "Epoch: 28 Validation Accuracy: 89.2%\n",
      "Epoch: 28 Validation Accuracy: 89.0%\n",
      "Epoch: 28 Validation Accuracy: 89.2%\n",
      "Epoch: 28 Validation Accuracy: 88.9%\n",
      "Epoch: 28 Validation Accuracy: 89.2%\n",
      "Epoch: 28 Validation Accuracy: 90.3%\n",
      "Epoch: 28 Validation Accuracy: 90.2%\n",
      "Epoch: 28 Validation Accuracy: 89.5%\n",
      "Epoch: 28 Validation Accuracy: 89.3%\n",
      "Epoch: 28 Validation Accuracy: 88.4%\n",
      "Epoch: 28 Validation Accuracy: 88.0%\n",
      "Epoch: 28 Validation Accuracy: 88.7%\n",
      "Epoch: 28 Validation Accuracy: 89.4%\n",
      "Epoch: 28 Validation Accuracy: 89.2%\n",
      "Epoch: 29 Validation Accuracy: 90.0%\n",
      "Epoch: 29 Validation Accuracy: 90.3%\n",
      "Epoch: 29 Validation Accuracy: 89.8%\n",
      "Epoch: 29 Validation Accuracy: 89.0%\n",
      "Epoch: 29 Validation Accuracy: 89.1%\n",
      "Epoch: 29 Validation Accuracy: 89.1%\n",
      "Epoch: 29 Validation Accuracy: 89.5%\n",
      "Epoch: 29 Validation Accuracy: 89.9%\n",
      "Epoch: 29 Validation Accuracy: 90.0%\n",
      "Epoch: 29 Validation Accuracy: 90.2%\n",
      "Epoch: 29 Validation Accuracy: 90.2%\n",
      "Epoch: 29 Validation Accuracy: 89.5%\n",
      "Epoch: 29 Validation Accuracy: 88.6%\n",
      "Epoch: 29 Validation Accuracy: 87.9%\n",
      "Epoch: 29 Validation Accuracy: 87.6%\n",
      "Epoch: 29 Validation Accuracy: 89.0%\n",
      "Epoch: 29 Validation Accuracy: 89.5%\n",
      "Epoch: 29 Validation Accuracy: 89.6%\n"
     ]
    }
   ],
   "source": [
    "import tqdm # Use \"for epoch in tqdm.trange(epochs):\" to see the progress bar\n",
    "\n",
    "# Convert the training, validation, testing dataset (NumPy arrays) into torch tensors\n",
    "# Split your training features/targets into mini-batches if using mini-batch gradient\n",
    "\n",
    "train_inputs = torch.from_numpy(train_features).float()\n",
    "train_targets = torch.from_numpy(train_targets).long()\n",
    "\n",
    "validation_inputs = torch.from_numpy(validation_features).float()\n",
    "validation_targets = torch.from_numpy(validation_targets).long()\n",
    "\n",
    "testing_inputs = torch.from_numpy(test_features).float()\n",
    "testing_targets = torch.from_numpy(test_targets).long()\n",
    "\n",
    "# Use torch.split() function to split the training inputs/targets into mini-batches\n",
    "# See documentation of torch.split() https://pytorch.org/docs/stable/generated/torch.split.html\n",
    "train_batches_features = torch.split(train_inputs, batchsize)\n",
    "train_batches_targets = torch.split(train_targets, batchsize)\n",
    "\n",
    "# length of train_batches_features = total number of mini-batches in the training set\n",
    "batch_split_num = len(train_batches_features)\n",
    "# Training Loop ---------------------------------------------------------------------------------------\n",
    "\n",
    "for epoch in range(epochs):\n",
    "    \n",
    "        \n",
    "    for k in range(batch_split_num):\n",
    "    \n",
    "        optimizer.zero_grad()\n",
    "    \n",
    "        train_batch_outputs = model(train_batches_features[k])\n",
    "\n",
    "        loss = loss_func(train_batch_outputs, train_batches_targets[k])\n",
    "\n",
    "        train_loss_list.append(loss.item())\n",
    "\n",
    "        loss.backward()\n",
    "\n",
    "        optimizer.step()\n",
    "\n",
    "    # Compute Validation Accuracy ----------------------------------------------------------------------\n",
    "\n",
    "        with torch.no_grad():\n",
    "\n",
    "          validation_outputs = model(validation_inputs)\n",
    "\n",
    "          correct = (torch.argmax(validation_outputs, dim=1) == \n",
    "                   validation_targets).type(torch.FloatTensor)\n",
    "        \n",
    "          print(\"Epoch: \"+ str(epoch), \n",
    "              \"Validation Accuracy: \" + str(np.round(correct.mean().numpy() * 100, 2)) + '%', flush=True)\n",
    "\n",
    "          validation_accuracy_list[epoch] = correct.mean()\n"
   ]
  },
  {
   "cell_type": "markdown",
   "id": "adf9a22e",
   "metadata": {
    "id": "adf9a22e"
   },
   "source": [
    "## Visualize & Evaluate Model"
   ]
  },
  {
   "cell_type": "code",
   "execution_count": null,
   "id": "3bc0863f",
   "metadata": {
    "colab": {
     "background_save": true
    },
    "id": "3bc0863f"
   },
   "outputs": [],
   "source": [
    "# Seaborn for prettier plot\n",
    "\n",
    "import seaborn as sns\n",
    "\n",
    "sns.set(style = 'whitegrid', font_scale = 1)"
   ]
  },
  {
   "cell_type": "code",
   "execution_count": null,
   "id": "b23f333c",
   "metadata": {
    "colab": {
     "background_save": true
    },
    "id": "b23f333c",
    "outputId": "71ba1408-8e55-4916-ab47-1833fad23586"
   },
   "outputs": [
    {
     "data": {
      "image/png": "[encoded data removed]",
      "text/plain": [
       "<Figure size 1080x648 with 2 Axes>"
      ]
     },
     "metadata": {},
     "output_type": "display_data"
    }
   ],
   "source": [
    "# Visualize training loss\n",
    "\n",
    "plt.figure(figsize = (15, 9))\n",
    "\n",
    "plt.subplot(2, 1, 1)\n",
    "plt.plot(train_loss_list, linewidth = 3)\n",
    "plt.ylabel(\"training loss\")\n",
    "plt.xlabel(\"iterations\")\n",
    "sns.despine()\n",
    "\n",
    "plt.subplot(2, 1, 2)\n",
    "plt.plot(validation_accuracy_list, linewidth = 3, color = 'gold')\n",
    "plt.ylabel(\"validation accuracy\")\n",
    "sns.despine()"
   ]
  },
  {
   "cell_type": "code",
   "execution_count": null,
   "id": "ee8589b6",
   "metadata": {
    "colab": {
     "background_save": true
    },
    "id": "ee8589b6",
    "outputId": "4bc8396d-8bdd-4d49-8452-53c3766a08be"
   },
   "outputs": [
    {
     "name": "stdout",
     "output_type": "stream",
     "text": [
      "Testing Accuracy: 0.89\n"
     ]
    }
   ],
   "source": [
    "# Compute the testing accuracy \n",
    "\n",
    "with torch.no_grad():\n",
    "    \n",
    "    y_pred_test = model(testing_inputs)\n",
    "     \n",
    "    correct = (torch.argmax(y_pred_test, dim=1) == testing_targets).type(torch.FloatTensor)\n",
    "    \n",
    "    print(\"Testing Accuracy: \" + str(correct.mean().numpy()))"
   ]
  },
  {
   "cell_type": "code",
   "execution_count": null,
   "id": "95a5fdb2",
   "metadata": {
    "colab": {
     "background_save": true
    },
    "id": "95a5fdb2",
    "scrolled": true
   },
   "outputs": [],
   "source": [
    "# (OPTIONAL) Print the testing accuracy for each fashion class. Your code should produce something that looks like:\n",
    "# Clever usage of np.where() could be useful here\n",
    "\n",
    "# \"Accuracy of T-shirt/top: 93.5 %\"\n",
    "# \"Accuracy of Trouser: 89.3 %\"\n",
    "# etc...\n",
    "\n",
    "# What's the fashion item that your model had the hardest time classifying?\n",
    "\n",
    "# YOUR CODE HERE"
   ]
  }
 ],
 "metadata": {
  "accelerator": "GPU",
  "colab": {
   "name": "Copy of Lab4_Template.ipynb",
   "provenance": []
  },
  "kernelspec": {
   "display_name": "Python 3",
   "language": "python",
   "name": "python3"
  },
  "language_info": {
   "codemirror_mode": {
    "name": "ipython",
    "version": 3
   },
   "file_extension": ".py",
   "mimetype": "text/x-python",
   "name": "python",
   "nbconvert_exporter": "python",
   "pygments_lexer": "ipython3",
   "version": "3.8.8"
  }
 },
 "nbformat": 4,
 "nbformat_minor": 5
}
