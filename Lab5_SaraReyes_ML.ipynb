{
 "cells": [
  {
   "cell_type": "markdown",
   "id": "2c542647",
   "metadata": {
    "id": "2c542647"
   },
   "source": [
    "# Lab 5 Report: \n",
    "## Create Arthur Conan Doyle AI with RNN"
   ]
  },
  {
   "cell_type": "markdown",
   "id": "87f0bdb8",
   "metadata": {
    "id": "87f0bdb8"
   },
   "source": [
    "### Name: Sara Reyes"
   ]
  },
  {
   "cell_type": "code",
   "execution_count": 1,
   "id": "d050509d",
   "metadata": {
    "id": "d050509d"
   },
   "outputs": [],
   "source": [
    "%matplotlib inline\n",
    "\n",
    "import numpy as np\n",
    "import matplotlib.pyplot as plt\n",
    "import torch\n",
    "from torch.distributions import Categorical"
   ]
  },
  {
   "cell_type": "code",
   "execution_count": 2,
   "id": "c1595b77",
   "metadata": {
    "id": "c1595b77"
   },
   "outputs": [],
   "source": [
    "from IPython.display import Image # For displaying images in colab jupyter cell"
   ]
  },
  {
   "cell_type": "code",
   "execution_count": 3,
   "id": "15441bb7",
   "metadata": {
    "colab": {
     "base_uri": "https://localhost:8080/",
     "height": 34
    },
    "id": "15441bb7",
    "outputId": "8dad6d60-cab7-49ce-979a-bee86ac1f247"
   },
   "outputs": [
    {
     "data": {
      "image/png": "lab5_exercise.png",
      "text/plain": [
       "<IPython.core.display.Image object>"
      ]
     },
     "execution_count": 3,
     "metadata": {
      "image/png": {
       "width": 1000
      }
     },
     "output_type": "execute_result"
    }
   ],
   "source": [
    "Image('lab5_exercise.png', width = 1000)"
   ]
  },
  {
   "cell_type": "markdown",
   "id": "f149d33a",
   "metadata": {
    "id": "f149d33a"
   },
   "source": [
    "## Prepare Data"
   ]
  },
  {
   "cell_type": "code",
   "execution_count": 4,
   "id": "0844f73f",
   "metadata": {
    "colab": {
     "base_uri": "https://localhost:8080/"
    },
    "id": "0844f73f",
    "outputId": "25c1c08c-abcf-4742-97b8-a12b1ff62a6e"
   },
   "outputs": [
    {
     "name": "stdout",
     "output_type": "stream",
     "text": [
      "Data has 100000 characters, 75 unique\n"
     ]
    }
   ],
   "source": [
    "# First n-characters to use for training\n",
    "data_size_to_train = 100000\n",
    "\n",
    "# Load the Sherlock Holmes data up to data_size_to_train\n",
    "data = open('sherlock.txt', 'r').read()[:data_size_to_train]\n",
    "\n",
    "# Find the unique characters within the training data\n",
    "characters = sorted(list(set(data)))\n",
    "\n",
    "# total number of characters in the training data and number of unique characters\n",
    "data_size, vocab_size = len(data), len(characters)\n",
    "\n",
    "print(\"Data has {} characters, {} unique\".format(data_size, vocab_size))"
   ]
  },
  {
   "cell_type": "code",
   "execution_count": 5,
   "id": "b647070b",
   "metadata": {
    "colab": {
     "base_uri": "https://localhost:8080/"
    },
    "id": "b647070b",
    "outputId": "2d121368-1bc2-483b-9f2b-2229a22c03a6"
   },
   "outputs": [
    {
     "name": "stdout",
     "output_type": "stream",
     "text": [
      "{'\\n': 0, ' ': 1, '!': 2, '\"': 3, \"'\": 4, '(': 5, ')': 6, ',': 7, '-': 8, '.': 9, '0': 10, '1': 11, '2': 12, '3': 13, '4': 14, '5': 15, '6': 16, '7': 17, '8': 18, '9': 19, ':': 20, ';': 21, '?': 22, 'A': 23, 'B': 24, 'C': 25, 'D': 26, 'E': 27, 'F': 28, 'G': 29, 'H': 30, 'I': 31, 'J': 32, 'K': 33, 'L': 34, 'M': 35, 'N': 36, 'O': 37, 'P': 38, 'Q': 39, 'R': 40, 'S': 41, 'T': 42, 'U': 43, 'V': 44, 'W': 45, 'Y': 46, 'a': 47, 'b': 48, 'c': 49, 'd': 50, 'e': 51, 'f': 52, 'g': 53, 'h': 54, 'i': 55, 'j': 56, 'k': 57, 'l': 58, 'm': 59, 'n': 60, 'o': 61, 'p': 62, 'q': 63, 'r': 64, 's': 65, 't': 66, 'u': 67, 'v': 68, 'w': 69, 'x': 70, 'y': 71, 'z': 72, '¨': 73, 'Ã': 74}\n"
     ]
    }
   ],
   "source": [
    "# Use Python Dictionary to map the characters to numbers and vice versa\n",
    "\n",
    "character_to_num = { ch:i for i,ch in enumerate(characters) }\n",
    "num_to_character = { i:ch for i,ch in enumerate(characters) }\n",
    "print(character_to_num)"
   ]
  },
  {
   "cell_type": "code",
   "execution_count": 6,
   "id": "1300d670",
   "metadata": {
    "colab": {
     "base_uri": "https://localhost:8080/"
    },
    "id": "1300d670",
    "outputId": "80033d91-0c0b-4af2-b235-1df229155ca4"
   },
   "outputs": [
    {
     "name": "stdout",
     "output_type": "stream",
     "text": [
      "[0, 1, 1, 1, 1, 1, 1, 1, 1, 1, 1, 1, 1, 1, 1, 1, 1, 1, 1, 42, 30, 27, 1, 25, 37, 35, 38, 34, 27, 42]\n"
     ]
    }
   ],
   "source": [
    "# Use the character_to_num dictionary to map each character in the training dataset to a number\n",
    "\n",
    "data = list(data)\n",
    "\n",
    "for i, ch in enumerate(data):\n",
    "  data[i] = character_to_num[ch]\n",
    "print(data[:30])"
   ]
  },
  {
   "cell_type": "markdown",
   "id": "1cfe7863",
   "metadata": {
    "id": "1cfe7863"
   },
   "source": [
    "## Define Model"
   ]
  },
  {
   "cell_type": "code",
   "execution_count": 7,
   "id": "b4d29ff6",
   "metadata": {
    "id": "b4d29ff6"
   },
   "outputs": [],
   "source": [
    "class CharRNN(torch.nn.Module):\n",
    "    \n",
    "    def __init__(self, num_embeddings, embedding_dim, input_size, hidden_size, num_layers, output_size):\n",
    "        \n",
    "        super(CharRNN, self).__init__()\n",
    "        \n",
    "        # Define embedding layer\n",
    "        # num_embeddings = number of unique characters\n",
    "        # embedding_dim = size of a vector that encodes each character\n",
    "        self.embedding = torch.nn.Embedding(num_embeddings, embedding_dim)\n",
    "        \n",
    "        # Define vanilla RNN cell\n",
    "        # num_layers = Number of RNN cells to be stacked for deep-RNN\n",
    "        # nonlinearity = Activation function to use\n",
    "        self.rnn = torch.nn.RNN(input_size=input_size, hidden_size=hidden_size, \n",
    "                                num_layers=num_layers, \n",
    "                                nonlinearity = 'relu')\n",
    "        \n",
    "        # decoder layer that takes hidden states as inputs and output probabilities for each character\n",
    "        # output_size = number of unique characters\n",
    "        self.decoder = torch.nn.Linear(hidden_size, output_size)\n",
    "    \n",
    "    def forward(self, input_seq, hidden_state):\n",
    "        \n",
    "        # Forward pass input sequence to embedding layer \n",
    "        embedding = self.embedding(input_seq)\n",
    "        \n",
    "        # RNN cell takes output of embedding layer + previous hidden state as inputs\n",
    "        output, hidden_state = self.rnn(embedding, hidden_state)\n",
    "        \n",
    "        # Forward pass the RNN cell output to decoder to get the probabilities\n",
    "        output = self.decoder(output)\n",
    "        \n",
    "        # hidden states need to be detached from computation graph to be re-used as input\n",
    "        return output, hidden_state.detach()"
   ]
  },
  {
   "cell_type": "markdown",
   "id": "50cac3a5",
   "metadata": {
    "id": "50cac3a5"
   },
   "source": [
    "## Define Hyperparameters"
   ]
  },
  {
   "cell_type": "code",
   "execution_count": 8,
   "id": "9c001665",
   "metadata": {
    "colab": {
     "base_uri": "https://localhost:8080/"
    },
    "id": "9c001665",
    "outputId": "8d19b025-6f4d-4c71-c56a-a7d350264e3e"
   },
   "outputs": [
    {
     "data": {
      "text/plain": [
       "CharRNN(\n",
       "  (embedding): Embedding(75, 50)\n",
       "  (rnn): RNN(50, 600, num_layers=3)\n",
       "  (decoder): Linear(in_features=600, out_features=75, bias=True)\n",
       ")"
      ]
     },
     "execution_count": 8,
     "metadata": {},
     "output_type": "execute_result"
    }
   ],
   "source": [
    "# Fix random seed\n",
    "torch.manual_seed(25)\n",
    "\n",
    "# Define RNN network\n",
    "rnn = CharRNN(num_embeddings = vocab_size, embedding_dim = 50, \n",
    "              input_size = 50, hidden_size = 600, num_layers = 3, #attempted to keep a compact model\n",
    "              output_size = vocab_size)\n",
    "\n",
    "# Define learning rate and epochs\n",
    "learning_rate = 0.0003\n",
    "epochs = 50\n",
    "\n",
    "# Size of the input sequence to be used during training and validation\n",
    "training_sequence_len = 50\n",
    "validation_sequence_len = 200    \n",
    "\n",
    "# Define loss function and optimizer\n",
    "loss_fn = torch.nn.CrossEntropyLoss()\n",
    "optimizer = torch.optim.Adam(rnn.parameters(), lr=learning_rate)\n",
    "\n",
    "# add .cuda() for GPU acceleration\n",
    "rnn"
   ]
  },
  {
   "cell_type": "markdown",
   "id": "a0b88a3d",
   "metadata": {
    "id": "a0b88a3d"
   },
   "source": [
    "## Identify Tracked Values"
   ]
  },
  {
   "cell_type": "code",
   "execution_count": 9,
   "id": "1a9efa78",
   "metadata": {
    "id": "1a9efa78"
   },
   "outputs": [],
   "source": [
    "# Tracking training loss per each input/target sequence fwd/bwd pass\n",
    "train_loss_list = []"
   ]
  },
  {
   "cell_type": "markdown",
   "id": "4b818cf8",
   "metadata": {
    "id": "4b818cf8"
   },
   "source": [
    "## Train Model"
   ]
  },
  {
   "cell_type": "code",
   "execution_count": 10,
   "id": "5a812d26",
   "metadata": {
    "colab": {
     "base_uri": "https://localhost:8080/"
    },
    "id": "5a812d26",
    "outputId": "54e69458-6571-4492-aabb-5bc230ab603c",
    "scrolled": false
   },
   "outputs": [
    {
     "name": "stdout",
     "output_type": "stream",
     "text": [
      "Averaged Training Loss for Epoch  0 :  2.148896477542243\n",
      "----------------------------------------\n",
      "r?s had of iter, phe hat listerd disting, in,' as the Nabch her han hess of sue,\n",
      " ack    \n",
      " momestion. Dain--.\n",
      " Aftander,' of he, your'cisit has hochels at it as into cratched it, and ayse, and ky sort\n",
      "----------------------------------------\n",
      "Averaged Training Loss for Epoch  1 :  1.7567851923189841\n",
      "----------------------------------------\n",
      "eet is.\" 'fearies you our some of Mugnnence!\n",
      " soud,' too'in over cent ayy and seen with. 'Apuruster. Were disblonging in one his ashed ib, and sharp, your\n",
      " Bound.\n",
      "\n",
      " \"'He mathpond-qoint, and abort to\n",
      " \n",
      "----------------------------------------\n",
      "Averaged Training Loss for Epoch  2 :  1.585482399961005\n",
      "----------------------------------------\n",
      "ur your head terrow until were your tard. ' om. if thotered if after thing, Rooary not\n",
      " it is doon the detective at it, thenes. 'Poan your alone. You you may such wrike.'\n",
      "\n",
      " \"Leside of anieon enow toom\n",
      "----------------------------------------\n",
      "Averaged Training Loss for Epoch  3 :  1.455924939787227\n",
      "----------------------------------------\n",
      "ead's and of any strate to\n",
      " it dods in a\n",
      " none of his companion the wringitier, however, that the his windous seave it\n",
      " obcention, and faccies,' siighter with a bell imuties if untir, Drictelation of \n",
      "----------------------------------------\n",
      "Averaged Training Loss for Epoch  4 :  1.3430432707384385\n",
      "----------------------------------------\n",
      "nt up the house for tragles of\n",
      " fortariest of an incold-cand\n",
      " come of Lator Elitace of the door. He alkes than than that what the news some her, that is the particll, out is turns, if nother the singi\n",
      "----------------------------------------\n",
      "Averaged Training Loss for Epoch  5 :  1.2354887595410464\n",
      "----------------------------------------\n",
      "an immonihe off this death.\n",
      "\n",
      " \"' after what throwing into myself sold chat lut that in the matter\n",
      " and what!--an horrown your son presents\n",
      " address unless.'\n",
      "\n",
      " \"'And that o'case is?'\n",
      "\n",
      " \"'Leveland, came\n",
      "----------------------------------------\n",
      "Averaged Training Loss for Epoch  6 :  1.1329756852712956\n",
      "----------------------------------------\n",
      "entoos.\n",
      "       Half-confidences. in her.''\n",
      " genelody. Nothing was shilling. That to sperkly if your son syeclos\n",
      " my compromised off fore back, and been ela!' shi, formides in the\n",
      " boarderstand, as sir\n",
      "----------------------------------------\n",
      "Averaged Training Loss for Epoch  7 :  1.0358146492199876\n",
      "----------------------------------------\n",
      "ngs\n",
      " which that he has unrolbod, and then while he had sinely if your whole turner. You remember sot says there in Holmes, the right train,' she said. 'Half-confide to me and sight\n",
      " that the room,'s m\n",
      "----------------------------------------\n",
      "Averaged Training Loss for Epoch  8 :  0.9448168479853326\n",
      "----------------------------------------\n",
      "ny as I have untoo the street--our which I have my mithore.\"\n",
      "\n",
      " \"'You have none the room, that the affair.\n",
      "\n",
      " \"'Addealy. His\n",
      " learned us behind the whole this, your healfool,\n",
      " Commonicality of all a mou\n",
      "----------------------------------------\n",
      "Averaged Training Loss for Epoch  9 :  0.867167596506321\n",
      "----------------------------------------\n",
      "hd ever imagine that your house,' she said, drividgable to poor if he might he is beloubed it will spoke that that collected of the 4ircled commonly emerech it will yourselves, gravely a few ofestice.\n",
      "----------------------------------------\n",
      "Averaged Training Loss for Epoch  10 :  0.7931523791338695\n",
      "----------------------------------------\n",
      "     Mr. Dr but sir lipt, and some brain of the matter in a shilling upon it is,'sis, in each whice!\n",
      " come ferel'--one at 9ir with this tocknesty's\n",
      " inisted street.\n",
      "\n",
      " \"'At is her fore I had\n",
      " us?n our \n",
      "----------------------------------------\n",
      "Averaged Training Loss for Epoch  11 :  0.7338378613700977\n",
      "----------------------------------------\n",
      "st for he met his door, if your profession, gravely; sremember what of 3is\n",
      " fiold 'with this, in\n",
      " those be comploce as though it is, but sile, if Mulled up her found her comes as\n",
      " surperse's unweltoma\n",
      "----------------------------------------\n",
      "Averaged Training Loss for Epoch  12 :  0.6845490842147752\n",
      "----------------------------------------\n",
      "eit ever come of dire, that I will be a twitterly. 'Un belonded his address.'\n",
      "\n",
      " \"'You have no already face had gentleman.\n",
      "\n",
      " \"'Por hould never rive some time book. Her found her chemical throwing up he\n",
      "----------------------------------------\n",
      "Averaged Training Loss for Epoch  13 :  0.6336009282583354\n",
      "----------------------------------------\n",
      "otice.'s began belo reason to merily. Her fause and asked unviolancer a few seconds\n",
      " belooded with was political.'\n",
      "\n",
      " \"Bosition. 'His amperwaich,\n",
      " Columber at 9ome, toison, throw fall and inlighting in\n",
      "----------------------------------------\n",
      "Averaged Training Loss for Epoch  14 :  0.5961333770040158\n",
      "----------------------------------------\n",
      "npazal.\n",
      " On enquestion. I shad possed.\n",
      "\n",
      " \"'Your sigkly we\n",
      " was in it, wenties.\n",
      " more shat was in your eite nary fearils, in\n",
      "\n",
      " about it give me eres or ad ever law.\n",
      "\n",
      " \"'Your best way is to make air,\n",
      " P\n",
      "----------------------------------------\n",
      "Averaged Training Loss for Epoch  15 :  0.5642225657840511\n",
      "----------------------------------------\n",
      "res of\n",
      " Road.'\n",
      "\n",
      " \"'Your best way is to many appear to be compressibl,'s rat had hardly waids sic, quite s a fear lodger.\n",
      "\n",
      " \"'At presented, and that it now,' I said. 'Half-confidences and keep me asked\n",
      "----------------------------------------\n",
      "Averaged Training Loss for Epoch  16 :  0.5315567860165397\n",
      "----------------------------------------\n",
      "            Mr. Sherlock\n",
      "\n",
      "\n",
      "     Con the eyes on some one. My drows. 'Yey. 'You had better leave ficise began to\n",
      " me in her ditcheved me took.' At was in me. He had sent the first.'\n",
      "\n",
      " \"'And agitled upo\n",
      "----------------------------------------\n",
      "Averaged Training Loss for Epoch  17 :  0.5095233548918983\n",
      "----------------------------------------\n",
      "r his chumble. How it will be none the asute of the dirtiest for the daughter withdrew. 'Now, sir,' she was will you.\n",
      "\n",
      " \"'Your son it away in the single consideratifying as cunspacts\n",
      " with this sing o\n",
      "----------------------------------------\n",
      "Averaged Training Loss for Epoch  18 :  0.484151609547742\n",
      "----------------------------------------\n",
      "     Johs sat simple and Sons, 129 of a done,\n",
      " and didn't may the absen suddenly ey, the , that in your eyes of would eight o'clock passed throwing up. Takeveing syst fired gather leave your house fac\n",
      "----------------------------------------\n",
      "Averaged Training Loss for Epoch  19 :  0.474052879804668\n",
      "----------------------------------------\n",
      "r his cunctive. \n",
      "\n",
      " \"'Arther. He is utterly innoch,\n",
      " murd ring in her daughter spoke in\n",
      " stand is,\" he semend, leady on this Brixton's is little,\" said 'You, in an expected into teithce.t\n",
      "\n",
      " He left eas\n",
      "----------------------------------------\n",
      "Averaged Training Loss for Epoch  20 :  0.4542767905619456\n",
      "----------------------------------------\n",
      "id to wink de are and  looked. 'Le compreted through de Crived 't me! How did the train?' I\n",
      "    Wour\n",
      " extracctive. \n",
      "\n",
      " \"'Your best jught to mind,' ir wing ratier\n",
      " ficm the mind.'\n",
      "\n",
      " \"'Perhaps, Alice,' s\n",
      "----------------------------------------\n",
      "Averaged Training Loss for Epoch  21 :  0.4410198100317473\n",
      "----------------------------------------\n",
      "s, I three, shown\n",
      " address.'\n",
      "\n",
      " \"'Arthur Cleveland, discovery. 'Un addres outson so many\n",
      " companion, grave your eyes and in my scone that it now supposing the second his chair. 'Ler correated that mich\n",
      "----------------------------------------\n",
      "Averaged Training Loss for Epoch  22 :  0.4228800637638187\n",
      "----------------------------------------\n",
      "ave an accomprime\n",
      " than none. Ber.\n",
      "\n",
      " \"'You had best nard upon't detective. \"Iy seated didn't escape\n",
      " off upon the right track and description. Her charaction. Her had no intention\n",
      " of telling you all \n",
      "----------------------------------------\n",
      "Averaged Training Loss for Epoch  23 :  0.4254676072678349\n",
      "----------------------------------------\n",
      "ore surmal that it now as to know how much were two\n",
      " trains--one at 9 ratiral\n",
      "    Amery carround in instait.'\n",
      "       Stran,' Petree will condered\n",
      " aure work you had better leave us togemsed it\n",
      " caugh.\n",
      "----------------------------------------\n",
      "Averaged Training Loss for Epoch  24 :  0.4154278767994489\n",
      "----------------------------------------\n",
      "luncement, and then this turn to her Mrouse of imitated your brother.'\n",
      "\n",
      " \"'Yer.\n",
      "\n",
      " \"And his thin, this morning unreses such as this sciled a come upon Madam' Carroung to\n",
      " me, 'I will tell you all, sir.\n",
      "----------------------------------------\n",
      "Averaged Training Loss for Epoch  25 :  0.40380443332566807\n",
      "----------------------------------------\n",
      "avely fact that wo lad already than the , though he workd's slepled off upon my avidant ty\n",
      " worn me result of Lally for me in the laughed\n",
      " a shad a hand\n",
      " a deli a necro. Her features that you nogety f\n",
      "----------------------------------------\n",
      "Averaged Training Loss for Epoch  26 :  0.39892128416457334\n",
      "----------------------------------------\n",
      "a sHamany seconds\n",
      " unough sor,' cried Madame Charpentier, throwing up exerty character, his profession that it. in your own side, out at\n",
      " provan.'\n",
      "\n",
      " \"' than it no merica\n",
      "     The Resident Patient. The\n",
      "----------------------------------------\n",
      "Averaged Training Loss for Epoch  27 :  0.3920836404831516\n",
      "----------------------------------------\n",
      "xtean exidence Of Eudres, inf Circl-someone a sal\n",
      " first; and then, turning to\n",
      " me, 'I will appreciate up up. \n",
      "\n",
      " \"Wh, in a smart, however, that in your eyes and thend any cirily to a\n",
      " sting jest he is\n",
      "----------------------------------------\n",
      "Averaged Training Loss for Epoch  28 :  0.3816317136514115\n",
      "----------------------------------------\n",
      "ended. \"Now, of the unresponsive\n",
      " from mistake in the eyes of others he may appear to\n",
      " be afger, and paver the spire I could colleague. The man\n",
      " complair.'\n",
      "\n",
      " \"'Your best nath't's antecedents would all\n",
      "----------------------------------------\n",
      "Averaged Training Loss for Epoch  29 :  0.3775037293573161\n",
      "----------------------------------------\n",
      "ave utier realy. \"Lefuge of each of the detective. Th\n",
      " began to smell a man\n",
      " one to lost the hality for the bell, however, that is not\n",
      " Tue lick before? I threw me to wait unnusement.)\n",
      "      CHAPTER V\n",
      "----------------------------------------\n",
      "Averaged Training Loss for Epoch  30 :  0.3749080780367772\n",
      "----------------------------------------\n",
      "apd went the\n",
      " flaxsed Lestrade in\n",
      " stand in the eyes of others he may apprecised the contend to a rist\n",
      "   A min-her own air\n",
      "    Tobias Gregson so much that he usre that friends on\n",
      " answered.\n",
      " 'Depend \n",
      "----------------------------------------\n",
      "Averaged Training Loss for Epoch  31 :  0.3721750052244933\n",
      "----------------------------------------\n",
      "tew.\n",
      "\n",
      " \"'At when, agawa in. There was simpeet day or two have\n",
      " wore anything at Numberlace of Clevengey's But a kind of thrill in your year a sm de poming. Bust is,\n",
      " the pale and distend him that feat\n",
      "----------------------------------------\n",
      "Averaged Training Loss for Epoch  32 :  0.36866967822308533\n",
      "----------------------------------------\n",
      " furnitufaily with permination. 'Hus secretany, confidences of the mysterious death of idea. Then, however, he was stand in madave Charpentier, and puffed into tears. I felt moreater now.'\n",
      "\n",
      " \"'Tention\n",
      "----------------------------------------\n",
      "Averaged Training Loss for Epoch  33 :  0.3626168066742005\n",
      "----------------------------------------\n",
      "r Mure together, has\n",
      " near from it was in a husky unnature of the Cleveland?' I asked.\n",
      "\n",
      " \"'At eyes for a moment, and that there were two\n",
      " trains--one at 9.15 and one at 1n. If the merth perlet, of We \n",
      "----------------------------------------\n",
      "Averaged Training Loss for Epoch  34 :  0.3579575177626857\n",
      "----------------------------------------\n",
      "oand of always of  losing Moheon Park at this Boscdow, and giving. There he more than none. Besides, you do not know how much we know of\n",
      " it.'\n",
      "\n",
      " \"'On your head be it, Alice!' cried her mother; and tel\n",
      "----------------------------------------\n",
      "Averaged Training Loss for Epoch  35 :  0.3553173689878321\n",
      "----------------------------------------\n",
      "train, the address.\"\n",
      "\n",
      " \"Smart--very smart!\" murmured Sherlock Holmes was tran smile.\n",
      "\n",
      " \"' very passes. 'He had sent the last which you saw of his curied a looking red able to get out a worl. The retwr\n",
      "----------------------------------------\n",
      "Averaged Training Loss for Epoch  36 :  0.35673944486222187\n",
      "----------------------------------------\n",
      "r the deyly. \"Let us learned your son is innocent he could retree of one of the 'White information.\n",
      "\n",
      " \"'And way from it. He saw of rughll in your\n",
      " neine that you noticed that these peem a single where\n",
      "----------------------------------------\n",
      "Averaged Training Loss for Epoch  37 :  0.35558446186097775\n",
      "----------------------------------------\n",
      "     HA spark, that in your eyes and her's Client from the dingiest Presently's Briva day.\"\n",
      "\n",
      " \"Sawyereciate the dingies. 'You have murdered your wageed at once ttation. 'Half-confidences\n",
      " face.\n",
      "\n",
      " \"'Yo\n",
      "----------------------------------------\n",
      "Averaged Training Loss for Epoch  38 :  0.3438640244681576\n",
      "----------------------------------------\n",
      "\n",
      "\n",
      " \"'At what o'clock did Mr. Drebber, of Cleveland?' hat o' a tragedy which are so e fear so hard-companion's exertion, you set Gool down the road with beatitude\n",
      " in any orfinite of Colbland Social ca\n",
      "----------------------------------------\n",
      "Averaged Training Loss for Epoch  39 :  0.3542993921894688\n",
      "----------------------------------------\n",
      "ust the hands in a\n",
      " paroxyed\n",
      " in this whole thing as clear that there were twious Clients were tfulbodice, I\n",
      " stapped his horse Babory had it daughter spoke in a\n",
      " paroxy\n",
      " than never neglect a\n",
      " chance,\n",
      "----------------------------------------\n",
      "Averaged Training Loss for Epoch  40 :  0.34739125438325397\n",
      "----------------------------------------\n",
      "       Arthur Coblerval Gardens steps at a time, and\n",
      " bungrable\n",
      " man were two\n",
      " trains--one at 9.15 ade found his hands\n",
      " and.\"\n",
      "\n",
      " \"There's feature. It's all formid from a cried Madame Charpentier, throw\n",
      "----------------------------------------\n",
      "Averaged Training Loss for Epoch  41 :  0.3425137276077891\n",
      "----------------------------------------\n",
      "l face-perssed Lack and disgrain it, Wiggins. They shatment in a few sach at his how of Malthmes and ineighted down the road with beatituded Man under loul me him that from the sone that these people\n",
      "\n",
      "----------------------------------------\n",
      "Averaged Training Loss for Epoch  42 :  0.3505153243203421\n",
      "----------------------------------------\n",
      "ilitratter\n",
      " in Gregson'strided through despoke\n",
      " to spectobley. The first difficulty of the whole thing no\n",
      " all that,\" he said. 'Let us low it.\n",
      "\n",
      " He was to hear the\n",
      " feal along up a pogether,' she said\n",
      "----------------------------------------\n",
      "Averaged Training Loss for Epoch  43 :  0.3362670676235767\n",
      "----------------------------------------\n",
      "Thom, Maiwand. Here you could recognize left\n",
      " accoud\n",
      " to smell a rat. You know the feolood, however will be a foggle of\n",
      " until parties clapped yet,\" he said. 'Half-confide at all. After an exploxed so\n",
      "----------------------------------------\n",
      "Averaged Training Loss for Epoch  44 :  0.3355070256569364\n",
      "----------------------------------------\n",
      "n ish did see Mr. Drebber again.'\n",
      "\n",
      " \"'God fore leave us together,' she said. 'Lnably many simped the subjects of unuf Stangerson, said that there were two\n",
      " trains--ourseluy, three stement in the conte\n",
      "----------------------------------------\n",
      "Averaged Training Loss for Epoch  45 :  0.3349003753847665\n",
      "----------------------------------------\n",
      "ngit of one of the Governminty\n",
      " long as day and one at 11 There he is!\"\n",
      "\n",
      " Theels which werp to\n",
      " England. There he is not a moment with The showing you done, but since my poor daughter has disclosed wi\n",
      "----------------------------------------\n",
      "Averaged Training Loss for Epoch  46 :  0.3319280792499197\n",
      "----------------------------------------\n",
      "ot shars neetently see had been\n",
      " cudbos seem able to get out a moach an\n",
      " uloce.' You shall sen, the have open the complety, and singing his ches, joseph Stangerson, said that there were two\n",
      " trains--o\n",
      "----------------------------------------\n",
      "Averaged Training Loss for Epoch  47 :  0.3325864761318262\n",
      "----------------------------------------\n",
      " As As an incomparably lazy an instant. He reminiscench and water?\"\n",
      "\n",
      " \"There's more with then thinks had to\n",
      " cold you made our wag inst., and done. Aminent. The detective seated himself he is\n",
      " away in\n",
      "----------------------------------------\n",
      "Averaged Training Loss for Epoch  48 :  0.33021778185824385\n",
      "----------------------------------------\n",
      "THEmen to light scatmant,\" he said. \"You very pale and distant trains--on the heard of muried in the room be it all this,\" he said. 'Half-confudie. That ever be have followers. 'Un thinks of beats\n",
      " a \n",
      "----------------------------------------\n",
      "Averaged Training Loss for Epoch  49 :  0.3292222468964215\n",
      "----------------------------------------\n",
      "xesgector before which we had to\n",
      " contend with was struck to\n",
      " the detective. \"I with the sixtembtick-an\n",
      "       The Adventure of the Lion's Mancing at the youthously for the table at.\"\n",
      "\n",
      " A imperhaired \n",
      "----------------------------------------\n"
     ]
    }
   ],
   "source": [
    "# Convert training data into torch tensor and make it into vertical orientation (N, 1)\n",
    "# Attach .cuda() if using GPU\n",
    "data = torch.unsqueeze(torch.tensor(data), dim = 1)\n",
    "\n",
    "# Training Loop ----------------------------------------------------------------------------------------------------------\n",
    "\n",
    "for epoch in range(epochs):\n",
    "    \n",
    "    # Randomly select a starting character from first 100 characters in training set\n",
    "    character_loc = np.random.randint(100)\n",
    "    \n",
    "    # iteration number to keep track of until the sequence reaches the end of training data\n",
    "    iteration = 0\n",
    "    \n",
    "    # initialize initial hiddens state as None\n",
    "    hidden_state = None\n",
    "\n",
    "    while character_loc + training_sequence_len + 1 < data_size: # loop continues until target_seq reaches end of the data\n",
    "        \n",
    "        # Define input/target sequence\n",
    "        input_seq = data[character_loc : character_loc + training_sequence_len]\n",
    "        target_seq = data[character_loc + 1 : character_loc + training_sequence_len + 1]\n",
    "        # Pass input sequence and hidden_state to RNN\n",
    "        output, hidden_state = rnn(input_seq, hidden_state)\n",
    "        \n",
    "        # Compute loss between RNN output sequence vs target sequence\n",
    "        # torch.squeeze removes the column dimension and make them into horizontal orientation\n",
    "        loss = loss_fn(torch.squeeze(output), torch.squeeze(target_seq))\n",
    "        \n",
    "        # Append loss\n",
    "        train_loss_list.append(loss.item())\n",
    "        \n",
    "        # Empty gradient buffer -> backpropagation -> update network\n",
    "        optimizer.zero_grad()\n",
    "        loss.backward()\n",
    "        optimizer.step()\n",
    "        \n",
    "        # Update starting character for next sequence\n",
    "        character_loc += training_sequence_len\n",
    "        \n",
    "        # Update iteration number\n",
    "        iteration += 1\n",
    "            \n",
    "    print(\"Averaged Training Loss for Epoch \", epoch,\": \", np.mean(train_loss_list[-iteration:]))\n",
    "    \n",
    "    # Sample and generate a text sequence after every epoch --------------------------------------------------------------\n",
    "    \n",
    "    #Initialize character location and hidden state for validation\n",
    "    character_loc = 0\n",
    "    hidden_state = None\n",
    "    \n",
    "    # Pick a random character from the dataset as an initial input to RNN \n",
    "    rand_index = np.random.randint(data_size-1)\n",
    "    input_seq = data[rand_index : rand_index+1]\n",
    "\n",
    "    print(\"----------------------------------------\")\n",
    "    with torch.no_grad():\n",
    "        \n",
    "        while character_loc < validation_sequence_len: # Loop continues until RNN generated sequence is in desired length\n",
    "            \n",
    "            # Pass validation sequence to RNN\n",
    "            # Note that RNN now uses its previous output character as input\n",
    "            output, hidden_state = rnn(input_seq, hidden_state)\n",
    "            \n",
    "            # Take the softmax of the decoder output to get the probabilities of predicted characters\n",
    "            output = torch.nn.functional.softmax(torch.squeeze(output), dim=0)\n",
    "            # Use the  probabilities to sample the output character\n",
    "            character_distribution = torch.distributions.Categorical(output)\n",
    "            character_num = character_distribution.sample()\n",
    "            \n",
    "            # Convert the character number selected from sampling to actual character and print\n",
    "            print(num_to_character[character_num.item()], end='')\n",
    "            \n",
    "            # Update the input_seq so that it's using the output of the RNN as new input\n",
    "            input_seq[0][0] = character_num.item()\n",
    "            \n",
    "            # Update the character location \n",
    "            character_loc += 1\n",
    "\n",
    "    print(\"\\n----------------------------------------\")"
   ]
  },
  {
   "cell_type": "markdown",
   "id": "0442adb6",
   "metadata": {
    "id": "0442adb6"
   },
   "source": [
    "## Visualize & Evaluate Model"
   ]
  },
  {
   "cell_type": "code",
   "execution_count": 1,
   "id": "c727e72e",
   "metadata": {
    "colab": {
     "base_uri": "https://localhost:8080/"
    },
    "id": "c727e72e",
    "outputId": "69677de4-3f2c-4d5d-ac2c-abd66744f758"
   },
   "outputs": [
    {
     "name": "stdout",
     "output_type": "stream",
     "text": [
      " As As an incomparably lazy an instant. He reminiscench and water?'There's more with then thinks had tocold you made our wag inst., and done. Aminent. The detective seated himself he isaway in\n"
     ]
    }
   ],
   "source": [
    "# Print a validation text sequence that most closely resembles Sherlock Holmes style\n",
    "print(\" As As an incomparably lazy an instant. He reminiscench and water?'There's more with then thinks had tocold you made our wag inst., and done. Aminent. The detective seated himself he isaway in\")"
   ]
  },
  {
   "cell_type": "code",
   "execution_count": 12,
   "id": "93cfc511",
   "metadata": {
    "id": "93cfc511"
   },
   "outputs": [],
   "source": [
    "# Import seaborn for prettier plot\n",
    "import seaborn as sns\n",
    "\n",
    "sns.set(style = 'whitegrid', font_scale = 2.5)"
   ]
  },
  {
   "cell_type": "code",
   "execution_count": 13,
   "id": "f2fc815b",
   "metadata": {
    "colab": {
     "base_uri": "https://localhost:8080/",
     "height": 591
    },
    "id": "f2fc815b",
    "outputId": "e0df616c-2ec9-4cca-c56f-bba6cae915dc"
   },
   "outputs": [
    {
     "data": {
      "image/png": "[encoded data removed]",
      "text/plain": [
       "<Figure size 1080x648 with 1 Axes>"
      ]
     },
     "metadata": {},
     "output_type": "display_data"
    }
   ],
   "source": [
    "# Plot the training loss and rolling mean training loss with respect to iterations\n",
    "# Feel free to change the window size\n",
    "plt.figure(figsize = (15, 9))\n",
    "\n",
    "plt.plot(train_loss_list, linewidth = 3, label = 'Training Loss')\n",
    "plt.plot(np.convolve(train_loss_list, np.ones(100), 'valid') / 100, \n",
    "         linewidth = 3, label = 'Rolling Averaged Training Loss')\n",
    "plt.ylabel(\"training loss\")\n",
    "plt.xlabel(\"Iterations\")\n",
    "plt.legend()\n",
    "sns.despine()"
   ]
  }
 ],
 "metadata": {
  "colab": {
   "name": "Lab5_SaraReyes.ipynb",
   "provenance": []
  },
  "kernelspec": {
   "display_name": "Python 3",
   "language": "python",
   "name": "python3"
  },
  "language_info": {
   "codemirror_mode": {
    "name": "ipython",
    "version": 3
   },
   "file_extension": ".py",
   "mimetype": "text/x-python",
   "name": "python",
   "nbconvert_exporter": "python",
   "pygments_lexer": "ipython3",
   "version": "3.8.8"
  }
 },
 "nbformat": 4,
 "nbformat_minor": 5
}
